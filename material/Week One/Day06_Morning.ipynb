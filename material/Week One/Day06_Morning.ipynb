{
  "nbformat": 4,
  "nbformat_minor": 0,
  "metadata": {
    "colab": {
      "provenance": []
    },
    "kernelspec": {
      "name": "python3",
      "display_name": "Python 3"
    },
    "language_info": {
      "name": "python"
    }
  },
  "cells": [
    {
      "cell_type": "markdown",
      "source": [
        "# Recap"
      ],
      "metadata": {
        "id": "p5_UG_Yjmz7o"
      }
    },
    {
      "cell_type": "markdown",
      "source": [
        "1. What are the different types of arguments?\n",
        "2. What is default value argument?\n",
        "3. What is the benefit of having keyword arguments?"
      ],
      "metadata": {
        "id": "LjE4bT8DwPIv"
      }
    },
    {
      "cell_type": "markdown",
      "source": [
        "What is the output of the following function?\n",
        "```python\n",
        "def myFunction(name=\"Addis\", height):\n",
        "  print(f\"hello I am {name} and I am {height} tall.\")\n",
        "\n",
        "myFunction(23)\n",
        "```"
      ],
      "metadata": {
        "id": "JzA6a68woMdE"
      }
    },
    {
      "cell_type": "code",
      "execution_count": 1,
      "metadata": {
        "id": "PlN9AdU5mZaa",
        "colab": {
          "base_uri": "https://localhost:8080/",
          "height": 106
        },
        "outputId": "d1941a86-c83e-45b1-d783-cd4261fa5d0a"
      },
      "outputs": [
        {
          "output_type": "error",
          "ename": "SyntaxError",
          "evalue": "non-default argument follows default argument (ipython-input-506779054.py, line 2)",
          "traceback": [
            "\u001b[0;36m  File \u001b[0;32m\"/tmp/ipython-input-506779054.py\"\u001b[0;36m, line \u001b[0;32m2\u001b[0m\n\u001b[0;31m    def myFunction(name=\"Addis\", height):\u001b[0m\n\u001b[0m                                 ^\u001b[0m\n\u001b[0;31mSyntaxError\u001b[0m\u001b[0;31m:\u001b[0m non-default argument follows default argument\n"
          ]
        }
      ],
      "source": [
        "#check the code here\n",
        "def myFunction(name=\"Addis\", height):\n",
        "  print(f\"hello I am {name} and I am {height} tall.\")\n",
        "\n",
        "myFunction(23)"
      ]
    },
    {
      "cell_type": "markdown",
      "source": [
        "How about this\n",
        "```python\n",
        "def myFunction(height, name=\"Addis\"):\n",
        "  print(f\"hello I am {name} and I am {height} tall.\")\n",
        "\n",
        "myFunction(23)\n",
        "```"
      ],
      "metadata": {
        "id": "fXu4ck-hq0qV"
      }
    },
    {
      "cell_type": "code",
      "source": [
        "#check code here\n",
        "def myFunction(height, name=\"Addis\"):\n",
        "  print(f\"hello I am {name} and I am {height} tall.\")\n",
        "\n",
        "myFunction(23)"
      ],
      "metadata": {
        "id": "OLZhw4oSsNzv",
        "colab": {
          "base_uri": "https://localhost:8080/"
        },
        "outputId": "d33814c2-5d6a-4049-9430-39eba4375dcd"
      },
      "execution_count": 2,
      "outputs": [
        {
          "output_type": "stream",
          "name": "stdout",
          "text": [
            "hello I am Addis and I am 23 tall.\n"
          ]
        }
      ]
    },
    {
      "cell_type": "markdown",
      "source": [
        "What's the output for the following\n",
        "```python\n",
        "def sum(greeting, *arguments):\n",
        "  print(f\"Hello {greeting}\")\n",
        "  sum = 0\n",
        "  for value in arguments:\n",
        "    sum += value\n",
        "  \n",
        "  return sum\n",
        "\n",
        "sum(\"How are you\", 20, 12, -9, 100)\n",
        "```"
      ],
      "metadata": {
        "id": "1S0yVXM2uMPB"
      }
    },
    {
      "cell_type": "code",
      "source": [
        "#check code here\n",
        "def sum(greeting, *arguments):\n",
        "  print(f\"Hello {greeting}\")\n",
        "  sum = 0\n",
        "  for value in arguments:\n",
        "    sum += value\n",
        "\n",
        "  return sum\n",
        "\n",
        "sum(\"How are you\", 20, 12, -9, 100)"
      ],
      "metadata": {
        "id": "uNMENnBAwB4B",
        "colab": {
          "base_uri": "https://localhost:8080/"
        },
        "outputId": "2f74062d-60da-4d6b-a3f9-84f37af03d27"
      },
      "execution_count": 3,
      "outputs": [
        {
          "output_type": "stream",
          "name": "stdout",
          "text": [
            "Hello How are you\n"
          ]
        },
        {
          "output_type": "execute_result",
          "data": {
            "text/plain": [
              "123"
            ]
          },
          "metadata": {},
          "execution_count": 3
        }
      ]
    },
    {
      "cell_type": "markdown",
      "source": [
        "# Introduction to Object Oriented Programming"
      ],
      "metadata": {
        "id": "bldEAxOwm2ts"
      }
    },
    {
      "cell_type": "markdown",
      "source": [
        "## 1. Understanding Procedural Programming"
      ],
      "metadata": {
        "id": "n59k6bjap2B7"
      }
    },
    {
      "cell_type": "markdown",
      "source": [
        "Procedural programming is a programming paradigm that focuses on writing code as a sequence of procedures (functions) that perform operations on data.\n",
        "\n",
        "**Key Characteristics:**\n",
        "\n",
        "* *Data and functions are separate*\n",
        "* *Code is executed step-by-step*\n",
        "* *Uses loops, conditionals, and functions*"
      ],
      "metadata": {
        "id": "5OsL6V0xqASa"
      }
    },
    {
      "cell_type": "markdown",
      "source": [
        "Let's look at an Example: `Bank Account Management (Procedural Approach)`"
      ],
      "metadata": {
        "id": "wRzRxblSqTIl"
      }
    },
    {
      "cell_type": "code",
      "source": [
        "# Data (Variables)\n",
        "account1_name = \"Alemu\"\n",
        "account1_balance = 1000\n",
        "\n",
        "account2_name = \"Birtikuan\"\n",
        "account2_balance = 2000\n",
        "\n",
        "# Functions (Procedures)\n",
        "def deposit(name, balance, amount):\n",
        "    print(f\"Depositing ${amount} to {name}'s account\")\n",
        "    return balance + amount\n",
        "\n",
        "def withdraw(name, balance, amount):\n",
        "    print(f\"Withdrawing ${amount} from {name}'s account\")\n",
        "    if amount > balance:\n",
        "        print(\"Insufficient funds!\")\n",
        "        return balance\n",
        "    return balance - amount\n",
        "\n",
        "# Operations\n",
        "account1_balance = deposit(account1_name, account1_balance, 500)\n",
        "account2_balance = withdraw(account2_name, account2_balance, 300)\n",
        "account1_balance = withdraw(account1_name, account1_balance, 2000)  # this Should fail\n"
      ],
      "metadata": {
        "id": "lwIiys0Gp9Pr",
        "colab": {
          "base_uri": "https://localhost:8080/"
        },
        "outputId": "9125e316-9374-42c3-f975-bd5e82eeb2b3"
      },
      "execution_count": 4,
      "outputs": [
        {
          "output_type": "stream",
          "name": "stdout",
          "text": [
            "Depositing $500 to Alemu's account\n",
            "Withdrawing $300 from Birtikuan's account\n",
            "Withdrawing $2000 from Alemu's account\n",
            "Insufficient funds!\n"
          ]
        }
      ]
    },
    {
      "cell_type": "code",
      "source": [
        "# Display final balances\n",
        "print(\"\\nFinal Balances:\")\n",
        "print(f\"{account1_name}: ${account1_balance}\")\n",
        "print(f\"{account2_name}: ${account2_balance}\")"
      ],
      "metadata": {
        "colab": {
          "base_uri": "https://localhost:8080/"
        },
        "id": "ev98GjhlQBUB",
        "outputId": "0b804692-f14c-4372-8676-554b4e764ff1"
      },
      "execution_count": 5,
      "outputs": [
        {
          "output_type": "stream",
          "name": "stdout",
          "text": [
            "\n",
            "Final Balances:\n",
            "Alemu: $1500\n",
            "Birtikuan: $1700\n"
          ]
        }
      ]
    },
    {
      "cell_type": "markdown",
      "source": [
        "### What's wrong with procedural approach?\n",
        "* **Data and functions are separate → Harder to manage**\n",
        "* **Many variables needed → More error-prone**\n",
        "* **Difficult to scale → Adding new features becomes messy**\n",
        "\n"
      ],
      "metadata": {
        "id": "y0s1zJKLqghj"
      }
    },
    {
      "cell_type": "markdown",
      "source": [
        "## 2. Introducing Object Oriented Programming(OOP)?"
      ],
      "metadata": {
        "id": "wnboKhhMnz_A"
      }
    },
    {
      "cell_type": "markdown",
      "source": [
        "OOP is a programming paradigm that bundles **data (attributes)** and **functions (methods)** **`into objects.`**\n",
        "\n",
        "**Key Concepts:**\n",
        "* **Class**: `A blueprint for creating objects` (e.g., BankAccount)\n",
        "* **Object**: `An instance of a class` (e.g., account1 = BankAccount(\"Alemu\", 1000))\n",
        "* **Attributes**: `Variables that belong to an object` (e.g., name, balance)\n",
        "* **Methods**: `Functions that belong to an object` (e.g., deposit(), withdraw()"
      ],
      "metadata": {
        "id": "a74528EAn3QH"
      }
    },
    {
      "cell_type": "markdown",
      "source": [
        "`Let's convert the previous example Bank Account Management to OOP Approach`"
      ],
      "metadata": {
        "id": "87VWYo12rrta"
      }
    },
    {
      "cell_type": "code",
      "source": [
        "class BankAccount:\n",
        "    def __init__(self, name, accountNumber, balance=0):\n",
        "        self.name = name  # Attribute\n",
        "        self.balance = balance  # Attribute\n",
        "        self.accountNumber = accountNumber\n",
        "\n",
        "    def deposit(self, amount):  # Method\n",
        "        print(f\"Depositing ${amount} to {self.name}'s account\")\n",
        "        self.balance += amount\n",
        "\n",
        "    def withdraw(self, amount):  # Method\n",
        "        print(f\"Withdrawing ${amount} from {self.name}'s account\")\n",
        "        if amount > self.balance:\n",
        "            print(\"Insufficient funds!\")\n",
        "            return\n",
        "        self.balance -= amount\n",
        "\n",
        "    def display_balance(self):  # Method\n",
        "        print(f\"{self.name}'s balance: ${self.balance}\")\n",
        "\n",
        "# Creating objects\n",
        "account1 = BankAccount(\"Alemu\", 1000)\n",
        "account2 = BankAccount(\"Birtikuan\", 2000)\n",
        "account3 = BankAccount(\"Abebe\", 10000)\n",
        "\n",
        "# Performing operations\n",
        "account1.deposit(500)\n",
        "account2.withdraw(300)\n",
        "account1.withdraw(2000)  # Should fail\n",
        "\n",
        "# Displaying final balances\n",
        "print(\"\\nFinal Balances:\")\n",
        "account1.display_balance()\n",
        "account2.display_balance()"
      ],
      "metadata": {
        "id": "U6XAd9Kgm5KT",
        "colab": {
          "base_uri": "https://localhost:8080/"
        },
        "outputId": "17f1f124-520d-48af-8dd8-d0e87fa69181"
      },
      "execution_count": 6,
      "outputs": [
        {
          "output_type": "stream",
          "name": "stdout",
          "text": [
            "Depositing $500 to Alemu's account\n",
            "Withdrawing $300 from Birtikuan's account\n",
            "Insufficient funds!\n",
            "Withdrawing $2000 from Alemu's account\n",
            "Insufficient funds!\n",
            "\n",
            "Final Balances:\n",
            "Alemu's balance: $500\n",
            "Birtikuan's balance: $0\n"
          ]
        }
      ]
    },
    {
      "cell_type": "code",
      "source": [
        "account1.name, account2.name"
      ],
      "metadata": {
        "colab": {
          "base_uri": "https://localhost:8080/"
        },
        "id": "tFQrCZCjVDau",
        "outputId": "77bdb52a-1c83-47b7-e8f3-3565bf906951"
      },
      "execution_count": 7,
      "outputs": [
        {
          "output_type": "execute_result",
          "data": {
            "text/plain": [
              "('Alemu', 'Birtikuan')"
            ]
          },
          "metadata": {},
          "execution_count": 7
        }
      ]
    },
    {
      "cell_type": "markdown",
      "source": [
        "**Advantages of OOP:**\n",
        "* ***`Data and functions are bundled together → Easier to manage`***\n",
        "* ***`Fewer variables to track → Less error-prone`***\n",
        "* ***`More organized and scalable → Adding new features is cleaner`***"
      ],
      "metadata": {
        "id": "-E21-Gt6n_xS"
      }
    },
    {
      "cell_type": "markdown",
      "source": [
        "## 3. Key Differences: Procedural vs. OOP"
      ],
      "metadata": {
        "id": "cW2IDNDqoW1c"
      }
    },
    {
      "cell_type": "markdown",
      "source": [
        "* **Structure**:\n",
        "  * *`Procedural`*: Functions + Data (separate)\n",
        "  * *`OOP`*: Objects (data + methods)\n",
        "* **Approach**:\n",
        "  * *`Procedural`*: Step-by-step execution\n",
        "  * *`OOP`*: Modeling real-world entities\n",
        "* **Scalability**:\n",
        "  * *`Procedural`*: Harder to maintain\n",
        "  * *`OOP`*: Easier to extend\n",
        "\n",
        "\n",
        "*Example*:\n",
        "* Procedural:\n",
        "```\n",
        "deposit(name, balance, amount)\n",
        "```\n",
        "* OOP:\n",
        "```\n",
        "account1.deposit(amount)\n",
        "```"
      ],
      "metadata": {
        "id": "8Fs3HJ1CsYgW"
      }
    },
    {
      "cell_type": "markdown",
      "source": [
        "## 4. Classes and Objects"
      ],
      "metadata": {
        "id": "czeqMJZbo2kO"
      }
    },
    {
      "cell_type": "markdown",
      "source": [
        "**Class:**\n",
        "* A **class** is a ***`blueprint/template`*** for creating objects.\n",
        "\n",
        "* Defines `attributes` (data) and `methods` (functions) ***`that the objects will have.`***\n",
        "\n",
        "**Object**:\n",
        "* An **object** is an ***`instance of a class`***.\n",
        "\n",
        "* ***`Each object has its own separate data`***."
      ],
      "metadata": {
        "id": "B0aQ9i1pwXm0"
      }
    },
    {
      "cell_type": "markdown",
      "source": [
        "**Analogy:**\n",
        "* **Class** = *`Car`* (defines what a car is in general)\n",
        "\n",
        "* **Object** = *`Nissan Patrol(an actual car)`* (instance created from the Car class)\n",
        "\n"
      ],
      "metadata": {
        "id": "g-sIwoXmw9q3"
      }
    },
    {
      "cell_type": "markdown",
      "source": [
        "### Class Structure in Python\n",
        "Basic syntax:\n",
        "```python\n",
        "class ClassName:\n",
        "    def __init__(self, param1, param2):  # Constructor\n",
        "        self.attribute1 = param1  # Instance attribute\n",
        "        self.attribute2 = param2\n",
        "    \n",
        "    def method1(self):  # Instance method\n",
        "        # Method body\n",
        "```"
      ],
      "metadata": {
        "id": "PJDXu47dxec9"
      }
    },
    {
      "cell_type": "markdown",
      "source": [
        "**Key Components:**\n",
        " * `__init__ method`: **Constructor** (runs when object is created)\n",
        "\n",
        "* `self`: **Refers to the current object instance**\n",
        "\n",
        "* `Attributes`: **Variables belonging to the object** (self.attribute)\n",
        "\n",
        "* `Methods`: **Functions belonging to the object**"
      ],
      "metadata": {
        "id": "l794bvoOyCKs"
      }
    },
    {
      "cell_type": "markdown",
      "source": [
        "`Let's look at Car class example in detail:`"
      ],
      "metadata": {
        "id": "7bn-Rw_Hym2w"
      }
    },
    {
      "cell_type": "code",
      "source": [
        "class Car:\n",
        "    # Class attribute (shared by all instances)\n",
        "    wheels = 4\n",
        "\n",
        "    def __init__(self, brand, model, color):\n",
        "        # Instance attributes\n",
        "        self.brand = brand\n",
        "        self.model = model\n",
        "        self.color = color\n",
        "        self.speed = 0  # Default value\n",
        "\n",
        "    def accelerate(self, increase):\n",
        "        self.speed += increase\n",
        "        print(f\"Accelerating! Speed is now {self.speed} km/h\")\n",
        "\n",
        "    def brake(self, decrease):\n",
        "        if self.speed - decrease < 0:\n",
        "            self.speed = 0\n",
        "        else:\n",
        "            self.speed -= decrease\n",
        "        print(f\"Braking! Speed is now {self.speed} km/h\")\n",
        "\n",
        "    def display_info(self):\n",
        "        print(f\"{self.color} {self.brand} {self.model} | Speed: {self.speed} km/h | Wheels: {self.wheels}\")"
      ],
      "metadata": {
        "id": "dWl7xcfxxeQd"
      },
      "execution_count": null,
      "outputs": []
    },
    {
      "cell_type": "markdown",
      "source": [
        "**`Creating objects`**"
      ],
      "metadata": {
        "id": "ASVhDHUIyvQ7"
      }
    },
    {
      "cell_type": "code",
      "source": [
        "car1 = Car(\"Toyota\", \"Corolla\", \"Red\")\n",
        "car2 = Car(\"Tesla\", \"Model 3\", \"Blue\")\n",
        "\n",
        "# Using objects\n",
        "car1.accelerate(30)\n",
        "car2.accelerate(50)\n",
        "car1.brake(10)\n",
        "\n",
        "print(\"\\nCar Details:\")\n",
        "car1.display_info()\n",
        "car2.display_info()"
      ],
      "metadata": {
        "id": "Oen3d_53xeJI"
      },
      "execution_count": null,
      "outputs": []
    },
    {
      "cell_type": "code",
      "source": [
        "class Dog:\n",
        "    # Class attribute (shared by all instances)\n",
        "    species = \"Canis familiaris\"\n",
        "\n",
        "    # Initializer (constructor)\n",
        "    def __init__(self, name, age):\n",
        "        # Instance attributes\n",
        "        self.name = name\n",
        "        self.age = age\n",
        "\n",
        "    # Instance method\n",
        "    def bark(self):\n",
        "        print(f\"{self.name} says woof!\")\n",
        "\n",
        "    def describe(self):\n",
        "        print(f\"{self.name} is {self.age} years old and is a {self.species}\")\n",
        "\n",
        "# Creating objects\n",
        "dog1 = Dog(\"Fido\", 3)\n",
        "dog2 = Dog(\"Buddy\", 5)\n",
        "\n",
        "# Using objects\n",
        "dog1.bark()\n",
        "dog2.describe()\n",
        "\n",
        "# Accessing attributes\n",
        "print(f\"{dog1.name} is a {dog1.species}\")\n",
        "print(f\"{dog2.name} is {dog2.age} years old\")"
      ],
      "metadata": {
        "id": "JyqzX8bxo4Pm"
      },
      "execution_count": null,
      "outputs": []
    },
    {
      "cell_type": "markdown",
      "source": [
        "### Understanding the self Parameter"
      ],
      "metadata": {
        "id": "nPJUWSNxpCW9"
      }
    },
    {
      "cell_type": "markdown",
      "source": [
        "* Refers to the **current object instance**\n",
        "\n",
        "* **`Python automatically passes it when calling methods`**\n",
        "\n",
        "Example:"
      ],
      "metadata": {
        "id": "fkXeZ-i3y7nl"
      }
    },
    {
      "cell_type": "markdown",
      "source": [
        "**`The following two are equivalent`**"
      ],
      "metadata": {
        "id": "Sw_ximZfzJCy"
      }
    },
    {
      "cell_type": "code",
      "source": [
        "car1.accelerate(30)\n",
        "Car.accelerate(car1, 30)  # Rarely used this way"
      ],
      "metadata": {
        "id": "_qp1RwM0zIoV"
      },
      "execution_count": null,
      "outputs": []
    },
    {
      "cell_type": "code",
      "source": [
        "# Demonstrating what 'self' refers to\n",
        "class SelfDemo:\n",
        "    def show_self(self):\n",
        "        print(f\"Inside the method, self is: {self}\")\n",
        "        print(f\"Memory address: {id(self)}\")\n",
        "\n",
        "demo = SelfDemo()\n",
        "print(f\"The object is: {demo}\")\n",
        "print(f\"Memory address: {id(demo)}\")\n",
        "print(\"Calling method...\")\n",
        "demo.show_self()"
      ],
      "metadata": {
        "id": "N-IuViispDsF"
      },
      "execution_count": null,
      "outputs": []
    },
    {
      "cell_type": "markdown",
      "source": [
        "#### Adding Attributes Dynamically"
      ],
      "metadata": {
        "id": "NjlwXGmszt0O"
      }
    },
    {
      "cell_type": "code",
      "source": [
        "car1.vin = \"ABC123\"  # Add new attribute to car1 only\n",
        "print(f\"VIN: {car1.vin}\")  # Works\n",
        "# print(f\"VIN: {car2.vin}\")  # Would cause AttributeError"
      ],
      "metadata": {
        "id": "2XrFdfd9zwQy"
      },
      "execution_count": null,
      "outputs": []
    },
    {
      "cell_type": "markdown",
      "source": [
        "#### Common Mistakes & Fixes"
      ],
      "metadata": {
        "id": "0NF5p7lMz08f"
      }
    },
    {
      "cell_type": "markdown",
      "source": [
        "##### **Mistake 1: Forgetting self**"
      ],
      "metadata": {
        "id": "K4nCOTBCz4Sf"
      }
    },
    {
      "cell_type": "code",
      "source": [
        "class BuggyCar:\n",
        "    def __init__(brand, model):  # Missing self!\n",
        "        brand = brand  # Wrong!\n",
        "        model = model\n",
        "\n",
        "    def drive():  # Missing self!\n",
        "        print(\"Driving\")"
      ],
      "metadata": {
        "id": "IslqXbPaz2a7"
      },
      "execution_count": null,
      "outputs": []
    },
    {
      "cell_type": "markdown",
      "source": [
        "**`Fixed version`**"
      ],
      "metadata": {
        "id": "YaIXizIO0Awl"
      }
    },
    {
      "cell_type": "code",
      "source": [
        "class CorrectCar:\n",
        "    def __init__(self, brand, model):\n",
        "        self.brand = brand\n",
        "        self.model = model\n",
        "\n",
        "    def drive(self):\n",
        "        print(f\"{self.model} is driving\")"
      ],
      "metadata": {
        "id": "AALD1b4H0DTb"
      },
      "execution_count": null,
      "outputs": []
    },
    {
      "cell_type": "markdown",
      "source": [
        "##### **Mistake 2: Confusing Class/Instance Attributes**"
      ],
      "metadata": {
        "id": "JdTyl-7u0G3v"
      }
    },
    {
      "cell_type": "markdown",
      "source": [
        "```python\n",
        "class Counter:\n",
        "    count = 0  # Class attribute\n",
        "    \n",
        "    def increment(self):\n",
        "        self.count += 1  # Creates instance attribute!\n",
        "\n",
        "# Solution:\n",
        "    def increment(self):\n",
        "        Counter.count += 1  # Explicitly modify class attribute\n",
        "```"
      ],
      "metadata": {
        "id": "UmLvc9ZS0Oi9"
      }
    },
    {
      "cell_type": "markdown",
      "source": [
        "## 5. Let's make hospital management system"
      ],
      "metadata": {
        "id": "aJgduR7srdpY"
      }
    },
    {
      "cell_type": "markdown",
      "source": [
        "What are the classes we need?\n",
        "* Patient\n",
        "* Doctor\n",
        "* Nurse\n",
        "* Hospital"
      ],
      "metadata": {
        "id": "Rt5utto_rkKZ"
      }
    },
    {
      "cell_type": "markdown",
      "source": [
        "What are the attributes for each class?\n",
        "\n",
        "What are the behaviros(methods) for each class?"
      ],
      "metadata": {
        "id": "fuKMhrYNr8Fs"
      }
    },
    {
      "cell_type": "code",
      "source": [
        "#write your code here for the first class\n"
      ],
      "metadata": {
        "id": "6PBYKyp1rmLe"
      },
      "execution_count": null,
      "outputs": []
    },
    {
      "cell_type": "code",
      "source": [
        "#Write your code here for the second class\n"
      ],
      "metadata": {
        "id": "nCnOoOXfrs5R"
      },
      "execution_count": null,
      "outputs": []
    },
    {
      "cell_type": "code",
      "source": [
        "#write your code here for the third class\n"
      ],
      "metadata": {
        "id": "nZoSwJCVrvVj"
      },
      "execution_count": null,
      "outputs": []
    },
    {
      "cell_type": "code",
      "source": [
        "#write your code here for the fourth class\n"
      ],
      "metadata": {
        "id": "kp7P4fGPsndK"
      },
      "execution_count": 8,
      "outputs": []
    },
    {
      "cell_type": "markdown",
      "source": [
        "## 6. Let's practice"
      ],
      "metadata": {
        "id": "UayDsot2pEbM"
      }
    },
    {
      "cell_type": "markdown",
      "source": [
        "#### I. Exercise 1: Convert Procedural Code to OOP."
      ],
      "metadata": {
        "id": "80dzrMrgpJ7e"
      }
    },
    {
      "cell_type": "markdown",
      "source": [
        "`Let's take the below procedural code and rewrite it using OOP:` It's about Managing a car's fuel level"
      ],
      "metadata": {
        "id": "lrDLDQSCt8Wz"
      }
    },
    {
      "cell_type": "code",
      "source": [
        "car_fuel = 50\n",
        "car_model = \"Toyota\"\n",
        "\n",
        "def add_fuel(fuel, amount):\n",
        "    print(f\"Adding {amount}L of fuel\")\n",
        "    return fuel + amount\n",
        "\n",
        "def drive(fuel, distance):\n",
        "    fuel_needed = distance * 0.1\n",
        "    if fuel_needed > fuel:\n",
        "        print(\"Not enough fuel!\")\n",
        "        return fuel\n",
        "    print(f\"Driving {distance}km\")\n",
        "    return fuel - fuel_needed\n",
        "\n",
        "# Operations\n",
        "car_fuel = add_fuel(car_fuel, 20)\n",
        "car_fuel = drive(car_fuel, 100)\n",
        "car_fuel = drive(car_fuel, 500)  # Should fail"
      ],
      "metadata": {
        "id": "XwOV4qRfpHYr"
      },
      "execution_count": null,
      "outputs": []
    },
    {
      "cell_type": "markdown",
      "source": [
        "#### `Rewrite this using a Car class with add_fuel() and drive() methods.`"
      ],
      "metadata": {
        "id": "oGWyTtYiuRx3"
      }
    },
    {
      "cell_type": "code",
      "source": [],
      "metadata": {
        "id": "7C1_or2gugux"
      },
      "execution_count": null,
      "outputs": []
    },
    {
      "cell_type": "markdown",
      "source": [
        "#### II. Exercise 2: Let's Create a Student Class."
      ],
      "metadata": {
        "id": "3N89tHQFunfo"
      }
    },
    {
      "cell_type": "markdown",
      "source": [
        "##### **Define a Student class with:**\n",
        "\n",
        "* **Attributes**: `name, age, grade`\n",
        "\n",
        "* **Methods**:\n",
        "\n",
        "  * `promote()` → Increases grade by 1\n",
        "\n",
        "  * `display_info()` → Prints student details"
      ],
      "metadata": {
        "id": "UieZfPxXuvSC"
      }
    },
    {
      "cell_type": "markdown",
      "source": [
        "Example of the usage:\n",
        "```python\n",
        "student1 = Student(\"Alice\", 15, 9)\n",
        "student1.promote()\n",
        "student1.display_info()  # Output: \"Alice is 15 years old and in grade 10\"\n",
        "```"
      ],
      "metadata": {
        "id": "R1b671SuvP8W"
      }
    },
    {
      "cell_type": "markdown",
      "source": [
        "#### V. Exercise 4: Let's create Rectangle Class"
      ],
      "metadata": {
        "id": "ygLksOdi0b0X"
      }
    },
    {
      "cell_type": "markdown",
      "source": [
        "**Create a Rectangle class with:**\n",
        "\n",
        "* **Attributes**: `width, height`\n",
        "\n",
        "* **Methods**: `area(), perimeter(), is_square()`"
      ],
      "metadata": {
        "id": "MtM6f3L40hSN"
      }
    },
    {
      "cell_type": "markdown",
      "source": [
        "Example usage:\n",
        "```python\n",
        "rect = Rectangle(5, 5)\n",
        "print(rect.area())       # 25\n",
        "print(rect.perimeter())  # 20\n",
        "print(rect.is_square())  # True\n",
        "```"
      ],
      "metadata": {
        "id": "jvUEdtU30um_"
      }
    },
    {
      "cell_type": "code",
      "source": [],
      "metadata": {
        "id": "IWOKQtOh0uVq"
      },
      "execution_count": null,
      "outputs": []
    },
    {
      "cell_type": "markdown",
      "source": [
        "#### IV. Exercise 4: Let's Fix the Code"
      ],
      "metadata": {
        "id": "Gumsdpx4vge5"
      }
    },
    {
      "cell_type": "markdown",
      "source": [
        "`This code has errors. Identify and fix them:`"
      ],
      "metadata": {
        "id": "rimh7gZpvn88"
      }
    },
    {
      "cell_type": "code",
      "source": [
        "class Dog:\n",
        "    def __init__(self, name, age):\n",
        "        name = name\n",
        "        age = age\n",
        "\n",
        "    def bark():\n",
        "        print(f\"{name} says woof!\")\n",
        "\n",
        "my_dog = Dog(\"Buddy\", 3)\n",
        "my_dog.bark()"
      ],
      "metadata": {
        "id": "N_wXRbkjuswI"
      },
      "execution_count": null,
      "outputs": []
    },
    {
      "cell_type": "markdown",
      "source": [
        "#### v. Let's create a class for a Restaurant Menu\n",
        "* **Class** = `Menu`\n",
        "\n",
        "* **Attributes**: `items, prices`\n",
        "\n",
        "* **Methods**: `add_item(), remove_item(), display_menu()`\n",
        "\n",
        "* **Objects** = `breakfast_menu, dinner_menu`\n",
        "\n",
        "\n",
        "**`Note: Each Menu has its own items and prices.`**"
      ],
      "metadata": {
        "id": "3Kqw-NiC08aG"
      }
    },
    {
      "cell_type": "code",
      "source": [],
      "metadata": {
        "id": "VeC77BcJ1fCK"
      },
      "execution_count": null,
      "outputs": []
    }
  ]
}