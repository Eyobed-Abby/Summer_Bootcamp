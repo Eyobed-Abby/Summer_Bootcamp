{
  "nbformat": 4,
  "nbformat_minor": 0,
  "metadata": {
    "colab": {
      "provenance": []
    },
    "kernelspec": {
      "name": "python3",
      "display_name": "Python 3"
    },
    "language_info": {
      "name": "python"
    }
  },
  "cells": [
    {
      "cell_type": "markdown",
      "source": [
        "# More on Classes and Objects"
      ],
      "metadata": {
        "id": "D2fePcPdIgwV"
      }
    },
    {
      "cell_type": "markdown",
      "source": [
        "## **Designing a Smartphone Class:**\n",
        "\n",
        "`Step-by-Step Thought Process`\n",
        "\n",
        "Let's walk through the complete process of designing an **`Smartphone`** class, how we determine what attributes and methods it should have."
      ],
      "metadata": {
        "id": "4mAW7BgTnmbY"
      }
    },
    {
      "cell_type": "markdown",
      "source": [
        "### Step 1: Brainstorming - What is a Smartphone?"
      ],
      "metadata": {
        "id": "F0o_5eXXoJLe"
      }
    },
    {
      "cell_type": "markdown",
      "source": [
        "**`Think of the following`**\n",
        "##### **Attributes (What a smartphone HAS):**\n",
        "\n",
        "\n",
        "##### **Methods (What a smartphone CAN DO)**\n"
      ],
      "metadata": {
        "id": "evZBFm8doO80"
      }
    },
    {
      "cell_type": "markdown",
      "source": [
        "**Possible Attributes (Properties)**\n",
        "1. Brand & Model\n",
        "\n",
        "2. Storage Capacity\n",
        "\n",
        "3. Battery Level\n",
        "\n",
        "4. Screen Size\n",
        "\n",
        "5. Is On?\n",
        "\n",
        "6. Installed Apps\n",
        "\n",
        "7. Current Volume\n"
      ],
      "metadata": {
        "id": "DCt5eahUpqAU"
      }
    },
    {
      "cell_type": "markdown",
      "source": [
        "**Possible Methods (Actions)**\n",
        "1. Turn On/Off\n",
        "\n",
        "2. Install an App\n",
        "\n",
        "3. Uninstall an App\n",
        "\n",
        "4. Check Battery Level\n",
        "\n",
        "5. Charge the Phone\n",
        "\n",
        "6. Change Volume\n",
        "\n",
        "7. Display Phone Info"
      ],
      "metadata": {
        "id": "9-AwDG6NqDtb"
      }
    },
    {
      "cell_type": "markdown",
      "source": [
        "### Step 2: Designing the Class Structure"
      ],
      "metadata": {
        "id": "fCP9K-2GquwM"
      }
    },
    {
      "cell_type": "markdown",
      "source": [
        "Define the class and the following methods:\n",
        "\n",
        "\n",
        "1.   Constructor(**`__init__`**)\n",
        "2.   Power: to switch on and off the device\n",
        "3.   install_app: check first if it's not installed already\n",
        "4.   uninstall_app: check if it exists first\n",
        "5.   check_battery:\n",
        "6.   charge: you give it a percent to charge\n",
        "7.   set_volume\n",
        "8.   display_phone_info\n",
        "\n"
      ],
      "metadata": {
        "id": "oH44JyzTq7jI"
      }
    },
    {
      "cell_type": "code",
      "source": [
        "m = [\"apple\", \"banana\", \"mango\"]\n",
        "m.remove(\"mango\")\n",
        "m"
      ],
      "metadata": {
        "colab": {
          "base_uri": "https://localhost:8080/"
        },
        "id": "6pYXUB1_Egi6",
        "outputId": "e27ceca8-e090-402d-d4d0-baa5ba82e18d"
      },
      "execution_count": 21,
      "outputs": [
        {
          "output_type": "execute_result",
          "data": {
            "text/plain": [
              "['apple', 'banana']"
            ]
          },
          "metadata": {},
          "execution_count": 21
        }
      ]
    },
    {
      "cell_type": "code",
      "source": [],
      "metadata": {
        "id": "ddyJDW3OEgfk"
      },
      "execution_count": null,
      "outputs": []
    },
    {
      "cell_type": "code",
      "source": [],
      "metadata": {
        "id": "sF8kV-i8EgTh"
      },
      "execution_count": null,
      "outputs": []
    },
    {
      "cell_type": "code",
      "execution_count": 52,
      "metadata": {
        "id": "dxxhUtZZFHvJ"
      },
      "outputs": [],
      "source": [
        "#write your code here\n",
        "class Smartphone:\n",
        "\n",
        "  #constructor\n",
        "  def __init__(self, brand, model, color, storage, screen_size):\n",
        "    self.brand = brand\n",
        "    self.model = model\n",
        "    self.color = color\n",
        "    self.storage = storage\n",
        "    self.screen_size = screen_size\n",
        "    self.battery = 30\n",
        "    self.volume = 60\n",
        "    self.apps = []\n",
        "    self.is_on = False\n",
        "\n",
        "  def power(self): #if power is off, it will truning it on & if the power is on, it will turn it off!\n",
        "    # self.is_on = not self.is_on\n",
        "    if self.is_on: #the power is on\n",
        "      self.is_on = False #we turned it off\n",
        "    else:\n",
        "      self.is_on = True\n",
        "\n",
        "  def install_app(self, app):\n",
        "    #first check if hte app already exists\n",
        "    if app in self.apps:\n",
        "      print(\"the app already exists!\")\n",
        "    else:\n",
        "      self.apps.append(app)\n",
        "      print(f\"the applicaiton {app} is successfully installed!\")\n",
        "\n",
        "  def uninstall_app(self, app):\n",
        "    #check if teh app exsits\n",
        "    if app in self.apps:\n",
        "      self.apps.remove(app)\n",
        "      print(f\"the app {app} is successfully uninstalled!\")\n",
        "    else:\n",
        "      print(\"The app doesn't exist\")\n",
        "\n",
        "  def check_battery(self):\n",
        "    print(f\"The current battyer is {self.battery}%\")\n",
        "\n",
        "  def charge(self, percent): #it takes a percent and adds to the battery value\n",
        "    if self.battery + percent > 100:\n",
        "      self.battery = 100\n",
        "    else:\n",
        "      self.battery += percent\n",
        "    print(f\"the battery increased to {self.battery}\")\n",
        "\n",
        "\n",
        "  def set_volume(self, vol):\n",
        "    self.volume = vol\n",
        "\n",
        "\n",
        "  def display_phone_info(self):\n",
        "    print(f\"Brand: {self.brand}, Model: {self.model}, storage: {self.storage}, Color: {self.color}\")\n",
        "\n",
        ""
      ]
    },
    {
      "cell_type": "code",
      "source": [
        "#object\n",
        "phone1 = Smartphone(\"iPhone\", \"14\", \"black\", \"1T\", 6.1)\n",
        "p2 = Smartphone(\"Samsung\", \"S23\", \"grey\", \"256GB\", 7)"
      ],
      "metadata": {
        "id": "OxoGijvYCjXY"
      },
      "execution_count": 55,
      "outputs": []
    },
    {
      "cell_type": "code",
      "source": [
        "p2.display_phone_info()"
      ],
      "metadata": {
        "colab": {
          "base_uri": "https://localhost:8080/"
        },
        "id": "NZHIxrOoHisn",
        "outputId": "470b258f-9288-4edc-cf13-6eb0da01fd2d"
      },
      "execution_count": 57,
      "outputs": [
        {
          "output_type": "stream",
          "name": "stdout",
          "text": [
            "Brand: Samsung, Model: S23, storage: 256GB, Color: grey\n"
          ]
        }
      ]
    },
    {
      "cell_type": "code",
      "source": [
        "phone1.display_phone_info()"
      ],
      "metadata": {
        "colab": {
          "base_uri": "https://localhost:8080/"
        },
        "id": "UWJ8MBnYHUg2",
        "outputId": "e2f9a6be-5c95-44ce-8f3f-b8068e702adb"
      },
      "execution_count": 54,
      "outputs": [
        {
          "output_type": "stream",
          "name": "stdout",
          "text": [
            "Brand: iPhone, Model: 14, storage: 1T, Color: black\n"
          ]
        }
      ]
    },
    {
      "cell_type": "code",
      "source": [
        "phone1.volume"
      ],
      "metadata": {
        "colab": {
          "base_uri": "https://localhost:8080/"
        },
        "id": "pv34LlCbGxJE",
        "outputId": "03bf6041-481f-4683-de01-2807e947c1c0"
      },
      "execution_count": 46,
      "outputs": [
        {
          "output_type": "execute_result",
          "data": {
            "text/plain": [
              "60"
            ]
          },
          "metadata": {},
          "execution_count": 46
        }
      ]
    },
    {
      "cell_type": "code",
      "source": [
        "phone1.set_volume(10)\n",
        "phone1.volume"
      ],
      "metadata": {
        "colab": {
          "base_uri": "https://localhost:8080/"
        },
        "id": "JUjFTMv8GGTA",
        "outputId": "50a5802e-0782-4be0-969d-6d3074d323c7"
      },
      "execution_count": 50,
      "outputs": [
        {
          "output_type": "execute_result",
          "data": {
            "text/plain": [
              "10"
            ]
          },
          "metadata": {},
          "execution_count": 50
        }
      ]
    },
    {
      "cell_type": "code",
      "source": [
        "phone1.charge(90)"
      ],
      "metadata": {
        "colab": {
          "base_uri": "https://localhost:8080/"
        },
        "id": "eiGFLBhTGH4L",
        "outputId": "98db8aac-52e7-40d3-f4f1-11b9acb953cb"
      },
      "execution_count": 43,
      "outputs": [
        {
          "output_type": "stream",
          "name": "stdout",
          "text": [
            "the battery increased to 100\n"
          ]
        }
      ]
    },
    {
      "cell_type": "code",
      "source": [
        "phone1.battery"
      ],
      "metadata": {
        "colab": {
          "base_uri": "https://localhost:8080/"
        },
        "id": "_FIp6ObIGK9s",
        "outputId": "d1185975-3e06-492f-90d4-84b573861832"
      },
      "execution_count": 37,
      "outputs": [
        {
          "output_type": "execute_result",
          "data": {
            "text/plain": [
              "120"
            ]
          },
          "metadata": {},
          "execution_count": 37
        }
      ]
    },
    {
      "cell_type": "code",
      "source": [
        "phone1.power()"
      ],
      "metadata": {
        "id": "0sM9N2wCDUGb"
      },
      "execution_count": 24,
      "outputs": []
    },
    {
      "cell_type": "code",
      "source": [
        "phone1.is_on"
      ],
      "metadata": {
        "colab": {
          "base_uri": "https://localhost:8080/"
        },
        "id": "Qzt9KBX5Datm",
        "outputId": "d733ae3e-9d64-48da-83d5-b73f6f4a6090"
      },
      "execution_count": 25,
      "outputs": [
        {
          "output_type": "execute_result",
          "data": {
            "text/plain": [
              "True"
            ]
          },
          "metadata": {},
          "execution_count": 25
        }
      ]
    },
    {
      "cell_type": "code",
      "source": [
        "phone1.power()"
      ],
      "metadata": {
        "id": "knQDKokNDi1q"
      },
      "execution_count": 26,
      "outputs": []
    },
    {
      "cell_type": "code",
      "source": [
        "phone1.is_on"
      ],
      "metadata": {
        "colab": {
          "base_uri": "https://localhost:8080/"
        },
        "id": "AJjt95m0DiyM",
        "outputId": "5221f0a6-c56b-41dd-d432-17ec63b826b9"
      },
      "execution_count": 11,
      "outputs": [
        {
          "output_type": "execute_result",
          "data": {
            "text/plain": [
              "False"
            ]
          },
          "metadata": {},
          "execution_count": 11
        }
      ]
    },
    {
      "cell_type": "code",
      "source": [
        "phone1.apps"
      ],
      "metadata": {
        "colab": {
          "base_uri": "https://localhost:8080/"
        },
        "id": "aX4lYNJbD6f6",
        "outputId": "bb9d5d56-d535-4a12-fc38-870b8e4ca429"
      },
      "execution_count": 13,
      "outputs": [
        {
          "output_type": "execute_result",
          "data": {
            "text/plain": [
              "[]"
            ]
          },
          "metadata": {},
          "execution_count": 13
        }
      ]
    },
    {
      "cell_type": "code",
      "source": [
        "phone1.install_app(\"candy crash\")"
      ],
      "metadata": {
        "colab": {
          "base_uri": "https://localhost:8080/"
        },
        "id": "Bdy9NE36DikL",
        "outputId": "213db7d6-e2ed-4efe-bcea-dd2086c2c930"
      },
      "execution_count": 27,
      "outputs": [
        {
          "output_type": "stream",
          "name": "stdout",
          "text": [
            "the applicaiton candy crash is successfully installed!\n"
          ]
        }
      ]
    },
    {
      "cell_type": "code",
      "source": [
        "phone1.install_app(\"telegram\")"
      ],
      "metadata": {
        "colab": {
          "base_uri": "https://localhost:8080/"
        },
        "id": "202ZtApNEG6M",
        "outputId": "a0544204-19ca-48af-c6eb-69e43823f121"
      },
      "execution_count": 28,
      "outputs": [
        {
          "output_type": "stream",
          "name": "stdout",
          "text": [
            "the applicaiton telegram is successfully installed!\n"
          ]
        }
      ]
    },
    {
      "cell_type": "code",
      "source": [
        "phone1.apps"
      ],
      "metadata": {
        "colab": {
          "base_uri": "https://localhost:8080/"
        },
        "id": "bmTcFJwQEKz9",
        "outputId": "2608cef8-8c90-4f3a-87ae-618a996f2a47"
      },
      "execution_count": 29,
      "outputs": [
        {
          "output_type": "execute_result",
          "data": {
            "text/plain": [
              "['candy crash', 'telegram']"
            ]
          },
          "metadata": {},
          "execution_count": 29
        }
      ]
    },
    {
      "cell_type": "code",
      "source": [
        "phone1.uninstall_app('candy crash')"
      ],
      "metadata": {
        "colab": {
          "base_uri": "https://localhost:8080/"
        },
        "id": "-v_s6ZrWE5nF",
        "outputId": "e9cc9708-ac01-4b79-a0b5-fe5e2dd55996"
      },
      "execution_count": 31,
      "outputs": [
        {
          "output_type": "stream",
          "name": "stdout",
          "text": [
            "the app candy crash is successfully uninstalled!\n"
          ]
        }
      ]
    },
    {
      "cell_type": "code",
      "source": [
        "phone1.apps"
      ],
      "metadata": {
        "colab": {
          "base_uri": "https://localhost:8080/"
        },
        "id": "7ATlaaqtFHEW",
        "outputId": "7ce2771e-9ad7-4fed-b980-a365a5e2b904"
      },
      "execution_count": 32,
      "outputs": [
        {
          "output_type": "execute_result",
          "data": {
            "text/plain": [
              "['telegram']"
            ]
          },
          "metadata": {},
          "execution_count": 32
        }
      ]
    },
    {
      "cell_type": "markdown",
      "source": [
        "### Step 3: Testing the Smartphone Class"
      ],
      "metadata": {
        "id": "DzN7Qw-vsFJY"
      }
    },
    {
      "cell_type": "markdown",
      "source": [
        "`create an instance and test its methods.`"
      ],
      "metadata": {
        "id": "DTU9b8QbsE8w"
      }
    },
    {
      "cell_type": "code",
      "source": [
        "# Create a smartphone object\n",
        "my_phone = Smartphone(\"Apple\", \"iPhone 15\", 128, 6.1)\n",
        "\n",
        "# Test methods\n",
        "my_phone.power()  # Turns ON\n",
        "my_phone.install_app(\"WhatsApp\")\n",
        "my_phone.install_app(\"Instagram\")\n",
        "my_phone.uninstall_app(\"Messages\")\n",
        "my_phone.charge(20)\n",
        "my_phone.set_volume(70)\n",
        "my_phone.display_info()"
      ],
      "metadata": {
        "id": "LBEE5HbTsEYL"
      },
      "execution_count": null,
      "outputs": []
    },
    {
      "cell_type": "markdown",
      "source": [
        "## **Designing Restaurant Menu Class**"
      ],
      "metadata": {
        "id": "a1z57eIwt4tT"
      }
    },
    {
      "cell_type": "markdown",
      "source": [
        "What are the Attributes (What a Menu Stores)?\n",
        "* ?\n",
        "* ?\n",
        "* ?"
      ],
      "metadata": {
        "id": "5XKfMm2huFx-"
      }
    },
    {
      "cell_type": "markdown",
      "source": [
        "What are the Methods (What a Menu Can Do)?\n",
        "* ?\n",
        "* ?\n",
        "* ?"
      ],
      "metadata": {
        "id": "4RIaqq-cuWL_"
      }
    },
    {
      "cell_type": "markdown",
      "source": [
        "### Step 2: Dtep 2: Designing the Class Structure"
      ],
      "metadata": {
        "id": "DIdCRqIfufXs"
      }
    },
    {
      "cell_type": "code",
      "source": [],
      "metadata": {
        "id": "iVbix6eFt82V"
      },
      "execution_count": null,
      "outputs": []
    },
    {
      "cell_type": "markdown",
      "source": [
        "### Step 3: Testing the Menu Class"
      ],
      "metadata": {
        "id": "9ilF2Kk1ux_Y"
      }
    },
    {
      "cell_type": "code",
      "source": [],
      "metadata": {
        "id": "dQy14K1puy-x"
      },
      "execution_count": null,
      "outputs": []
    }
  ]
}